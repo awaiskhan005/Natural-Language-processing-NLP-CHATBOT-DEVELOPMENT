{
  "nbformat": 4,
  "nbformat_minor": 0,
  "metadata": {
    "colab": {
      "provenance": []
    },
    "kernelspec": {
      "name": "python3",
      "display_name": "Python 3"
    },
    "language_info": {
      "name": "python"
    },
    "widgets": {
      "application/vnd.jupyter.widget-state+json": {
        "d6088e81529449be86573eefe84aff72": {
          "model_module": "@jupyter-widgets/controls",
          "model_name": "HBoxModel",
          "model_module_version": "1.5.0",
          "state": {
            "_dom_classes": [],
            "_model_module": "@jupyter-widgets/controls",
            "_model_module_version": "1.5.0",
            "_model_name": "HBoxModel",
            "_view_count": null,
            "_view_module": "@jupyter-widgets/controls",
            "_view_module_version": "1.5.0",
            "_view_name": "HBoxView",
            "box_style": "",
            "children": [
              "IPY_MODEL_28f3d12c9b074266a4123efc589fd839",
              "IPY_MODEL_80f1cc3606cd491598c92438c94fb14c",
              "IPY_MODEL_8428812de81c44a8b7d961ea501be47f"
            ],
            "layout": "IPY_MODEL_df634d343e154861bb001668f2c60eec"
          }
        },
        "28f3d12c9b074266a4123efc589fd839": {
          "model_module": "@jupyter-widgets/controls",
          "model_name": "HTMLModel",
          "model_module_version": "1.5.0",
          "state": {
            "_dom_classes": [],
            "_model_module": "@jupyter-widgets/controls",
            "_model_module_version": "1.5.0",
            "_model_name": "HTMLModel",
            "_view_count": null,
            "_view_module": "@jupyter-widgets/controls",
            "_view_module_version": "1.5.0",
            "_view_name": "HTMLView",
            "description": "",
            "description_tooltip": null,
            "layout": "IPY_MODEL_87f3351085334a178aa912d30ad3ef15",
            "placeholder": "​",
            "style": "IPY_MODEL_c18058c774c94e3e8e1ca624cf55c6c0",
            "value": "tokenizer_config.json: 100%"
          }
        },
        "80f1cc3606cd491598c92438c94fb14c": {
          "model_module": "@jupyter-widgets/controls",
          "model_name": "FloatProgressModel",
          "model_module_version": "1.5.0",
          "state": {
            "_dom_classes": [],
            "_model_module": "@jupyter-widgets/controls",
            "_model_module_version": "1.5.0",
            "_model_name": "FloatProgressModel",
            "_view_count": null,
            "_view_module": "@jupyter-widgets/controls",
            "_view_module_version": "1.5.0",
            "_view_name": "ProgressView",
            "bar_style": "success",
            "description": "",
            "description_tooltip": null,
            "layout": "IPY_MODEL_bf18e80efc0747d39bee03ea949cff63",
            "max": 48,
            "min": 0,
            "orientation": "horizontal",
            "style": "IPY_MODEL_e150e82c40a34ab2bb7cb0babbfc588f",
            "value": 48
          }
        },
        "8428812de81c44a8b7d961ea501be47f": {
          "model_module": "@jupyter-widgets/controls",
          "model_name": "HTMLModel",
          "model_module_version": "1.5.0",
          "state": {
            "_dom_classes": [],
            "_model_module": "@jupyter-widgets/controls",
            "_model_module_version": "1.5.0",
            "_model_name": "HTMLModel",
            "_view_count": null,
            "_view_module": "@jupyter-widgets/controls",
            "_view_module_version": "1.5.0",
            "_view_name": "HTMLView",
            "description": "",
            "description_tooltip": null,
            "layout": "IPY_MODEL_f00d2a35da1a42878cd8aeac74de67ff",
            "placeholder": "​",
            "style": "IPY_MODEL_c875b9db87384322b02851c6d970e885",
            "value": " 48.0/48.0 [00:00&lt;00:00, 2.62kB/s]"
          }
        },
        "df634d343e154861bb001668f2c60eec": {
          "model_module": "@jupyter-widgets/base",
          "model_name": "LayoutModel",
          "model_module_version": "1.2.0",
          "state": {
            "_model_module": "@jupyter-widgets/base",
            "_model_module_version": "1.2.0",
            "_model_name": "LayoutModel",
            "_view_count": null,
            "_view_module": "@jupyter-widgets/base",
            "_view_module_version": "1.2.0",
            "_view_name": "LayoutView",
            "align_content": null,
            "align_items": null,
            "align_self": null,
            "border": null,
            "bottom": null,
            "display": null,
            "flex": null,
            "flex_flow": null,
            "grid_area": null,
            "grid_auto_columns": null,
            "grid_auto_flow": null,
            "grid_auto_rows": null,
            "grid_column": null,
            "grid_gap": null,
            "grid_row": null,
            "grid_template_areas": null,
            "grid_template_columns": null,
            "grid_template_rows": null,
            "height": null,
            "justify_content": null,
            "justify_items": null,
            "left": null,
            "margin": null,
            "max_height": null,
            "max_width": null,
            "min_height": null,
            "min_width": null,
            "object_fit": null,
            "object_position": null,
            "order": null,
            "overflow": null,
            "overflow_x": null,
            "overflow_y": null,
            "padding": null,
            "right": null,
            "top": null,
            "visibility": null,
            "width": null
          }
        },
        "87f3351085334a178aa912d30ad3ef15": {
          "model_module": "@jupyter-widgets/base",
          "model_name": "LayoutModel",
          "model_module_version": "1.2.0",
          "state": {
            "_model_module": "@jupyter-widgets/base",
            "_model_module_version": "1.2.0",
            "_model_name": "LayoutModel",
            "_view_count": null,
            "_view_module": "@jupyter-widgets/base",
            "_view_module_version": "1.2.0",
            "_view_name": "LayoutView",
            "align_content": null,
            "align_items": null,
            "align_self": null,
            "border": null,
            "bottom": null,
            "display": null,
            "flex": null,
            "flex_flow": null,
            "grid_area": null,
            "grid_auto_columns": null,
            "grid_auto_flow": null,
            "grid_auto_rows": null,
            "grid_column": null,
            "grid_gap": null,
            "grid_row": null,
            "grid_template_areas": null,
            "grid_template_columns": null,
            "grid_template_rows": null,
            "height": null,
            "justify_content": null,
            "justify_items": null,
            "left": null,
            "margin": null,
            "max_height": null,
            "max_width": null,
            "min_height": null,
            "min_width": null,
            "object_fit": null,
            "object_position": null,
            "order": null,
            "overflow": null,
            "overflow_x": null,
            "overflow_y": null,
            "padding": null,
            "right": null,
            "top": null,
            "visibility": null,
            "width": null
          }
        },
        "c18058c774c94e3e8e1ca624cf55c6c0": {
          "model_module": "@jupyter-widgets/controls",
          "model_name": "DescriptionStyleModel",
          "model_module_version": "1.5.0",
          "state": {
            "_model_module": "@jupyter-widgets/controls",
            "_model_module_version": "1.5.0",
            "_model_name": "DescriptionStyleModel",
            "_view_count": null,
            "_view_module": "@jupyter-widgets/base",
            "_view_module_version": "1.2.0",
            "_view_name": "StyleView",
            "description_width": ""
          }
        },
        "bf18e80efc0747d39bee03ea949cff63": {
          "model_module": "@jupyter-widgets/base",
          "model_name": "LayoutModel",
          "model_module_version": "1.2.0",
          "state": {
            "_model_module": "@jupyter-widgets/base",
            "_model_module_version": "1.2.0",
            "_model_name": "LayoutModel",
            "_view_count": null,
            "_view_module": "@jupyter-widgets/base",
            "_view_module_version": "1.2.0",
            "_view_name": "LayoutView",
            "align_content": null,
            "align_items": null,
            "align_self": null,
            "border": null,
            "bottom": null,
            "display": null,
            "flex": null,
            "flex_flow": null,
            "grid_area": null,
            "grid_auto_columns": null,
            "grid_auto_flow": null,
            "grid_auto_rows": null,
            "grid_column": null,
            "grid_gap": null,
            "grid_row": null,
            "grid_template_areas": null,
            "grid_template_columns": null,
            "grid_template_rows": null,
            "height": null,
            "justify_content": null,
            "justify_items": null,
            "left": null,
            "margin": null,
            "max_height": null,
            "max_width": null,
            "min_height": null,
            "min_width": null,
            "object_fit": null,
            "object_position": null,
            "order": null,
            "overflow": null,
            "overflow_x": null,
            "overflow_y": null,
            "padding": null,
            "right": null,
            "top": null,
            "visibility": null,
            "width": null
          }
        },
        "e150e82c40a34ab2bb7cb0babbfc588f": {
          "model_module": "@jupyter-widgets/controls",
          "model_name": "ProgressStyleModel",
          "model_module_version": "1.5.0",
          "state": {
            "_model_module": "@jupyter-widgets/controls",
            "_model_module_version": "1.5.0",
            "_model_name": "ProgressStyleModel",
            "_view_count": null,
            "_view_module": "@jupyter-widgets/base",
            "_view_module_version": "1.2.0",
            "_view_name": "StyleView",
            "bar_color": null,
            "description_width": ""
          }
        },
        "f00d2a35da1a42878cd8aeac74de67ff": {
          "model_module": "@jupyter-widgets/base",
          "model_name": "LayoutModel",
          "model_module_version": "1.2.0",
          "state": {
            "_model_module": "@jupyter-widgets/base",
            "_model_module_version": "1.2.0",
            "_model_name": "LayoutModel",
            "_view_count": null,
            "_view_module": "@jupyter-widgets/base",
            "_view_module_version": "1.2.0",
            "_view_name": "LayoutView",
            "align_content": null,
            "align_items": null,
            "align_self": null,
            "border": null,
            "bottom": null,
            "display": null,
            "flex": null,
            "flex_flow": null,
            "grid_area": null,
            "grid_auto_columns": null,
            "grid_auto_flow": null,
            "grid_auto_rows": null,
            "grid_column": null,
            "grid_gap": null,
            "grid_row": null,
            "grid_template_areas": null,
            "grid_template_columns": null,
            "grid_template_rows": null,
            "height": null,
            "justify_content": null,
            "justify_items": null,
            "left": null,
            "margin": null,
            "max_height": null,
            "max_width": null,
            "min_height": null,
            "min_width": null,
            "object_fit": null,
            "object_position": null,
            "order": null,
            "overflow": null,
            "overflow_x": null,
            "overflow_y": null,
            "padding": null,
            "right": null,
            "top": null,
            "visibility": null,
            "width": null
          }
        },
        "c875b9db87384322b02851c6d970e885": {
          "model_module": "@jupyter-widgets/controls",
          "model_name": "DescriptionStyleModel",
          "model_module_version": "1.5.0",
          "state": {
            "_model_module": "@jupyter-widgets/controls",
            "_model_module_version": "1.5.0",
            "_model_name": "DescriptionStyleModel",
            "_view_count": null,
            "_view_module": "@jupyter-widgets/base",
            "_view_module_version": "1.2.0",
            "_view_name": "StyleView",
            "description_width": ""
          }
        },
        "7317244d3afa48f6a04e41444decf965": {
          "model_module": "@jupyter-widgets/controls",
          "model_name": "HBoxModel",
          "model_module_version": "1.5.0",
          "state": {
            "_dom_classes": [],
            "_model_module": "@jupyter-widgets/controls",
            "_model_module_version": "1.5.0",
            "_model_name": "HBoxModel",
            "_view_count": null,
            "_view_module": "@jupyter-widgets/controls",
            "_view_module_version": "1.5.0",
            "_view_name": "HBoxView",
            "box_style": "",
            "children": [
              "IPY_MODEL_367af4a4f9bd441b83198cb0525ae500",
              "IPY_MODEL_6836aa05a34641c6a5ddfb44011d5c77",
              "IPY_MODEL_8eff7b540e054425bfc1679befcdc121"
            ],
            "layout": "IPY_MODEL_f1bd2519bec6431b9c6cbc0541fd6a0f"
          }
        },
        "367af4a4f9bd441b83198cb0525ae500": {
          "model_module": "@jupyter-widgets/controls",
          "model_name": "HTMLModel",
          "model_module_version": "1.5.0",
          "state": {
            "_dom_classes": [],
            "_model_module": "@jupyter-widgets/controls",
            "_model_module_version": "1.5.0",
            "_model_name": "HTMLModel",
            "_view_count": null,
            "_view_module": "@jupyter-widgets/controls",
            "_view_module_version": "1.5.0",
            "_view_name": "HTMLView",
            "description": "",
            "description_tooltip": null,
            "layout": "IPY_MODEL_d0bd3064e5334578a5077ba834a2e676",
            "placeholder": "​",
            "style": "IPY_MODEL_d032fb04cf884bdfa4c93f8924909de0",
            "value": "vocab.txt: 100%"
          }
        },
        "6836aa05a34641c6a5ddfb44011d5c77": {
          "model_module": "@jupyter-widgets/controls",
          "model_name": "FloatProgressModel",
          "model_module_version": "1.5.0",
          "state": {
            "_dom_classes": [],
            "_model_module": "@jupyter-widgets/controls",
            "_model_module_version": "1.5.0",
            "_model_name": "FloatProgressModel",
            "_view_count": null,
            "_view_module": "@jupyter-widgets/controls",
            "_view_module_version": "1.5.0",
            "_view_name": "ProgressView",
            "bar_style": "success",
            "description": "",
            "description_tooltip": null,
            "layout": "IPY_MODEL_f0dbc98ec3a743da80d4ccefc6affc73",
            "max": 231508,
            "min": 0,
            "orientation": "horizontal",
            "style": "IPY_MODEL_4d8b00576cef400aa768324aaf65ec07",
            "value": 231508
          }
        },
        "8eff7b540e054425bfc1679befcdc121": {
          "model_module": "@jupyter-widgets/controls",
          "model_name": "HTMLModel",
          "model_module_version": "1.5.0",
          "state": {
            "_dom_classes": [],
            "_model_module": "@jupyter-widgets/controls",
            "_model_module_version": "1.5.0",
            "_model_name": "HTMLModel",
            "_view_count": null,
            "_view_module": "@jupyter-widgets/controls",
            "_view_module_version": "1.5.0",
            "_view_name": "HTMLView",
            "description": "",
            "description_tooltip": null,
            "layout": "IPY_MODEL_6d1ac7f5f69546bcaecd5208c02ea6a3",
            "placeholder": "​",
            "style": "IPY_MODEL_7a82e7a868314387921729b438d336a9",
            "value": " 232k/232k [00:00&lt;00:00, 4.11MB/s]"
          }
        },
        "f1bd2519bec6431b9c6cbc0541fd6a0f": {
          "model_module": "@jupyter-widgets/base",
          "model_name": "LayoutModel",
          "model_module_version": "1.2.0",
          "state": {
            "_model_module": "@jupyter-widgets/base",
            "_model_module_version": "1.2.0",
            "_model_name": "LayoutModel",
            "_view_count": null,
            "_view_module": "@jupyter-widgets/base",
            "_view_module_version": "1.2.0",
            "_view_name": "LayoutView",
            "align_content": null,
            "align_items": null,
            "align_self": null,
            "border": null,
            "bottom": null,
            "display": null,
            "flex": null,
            "flex_flow": null,
            "grid_area": null,
            "grid_auto_columns": null,
            "grid_auto_flow": null,
            "grid_auto_rows": null,
            "grid_column": null,
            "grid_gap": null,
            "grid_row": null,
            "grid_template_areas": null,
            "grid_template_columns": null,
            "grid_template_rows": null,
            "height": null,
            "justify_content": null,
            "justify_items": null,
            "left": null,
            "margin": null,
            "max_height": null,
            "max_width": null,
            "min_height": null,
            "min_width": null,
            "object_fit": null,
            "object_position": null,
            "order": null,
            "overflow": null,
            "overflow_x": null,
            "overflow_y": null,
            "padding": null,
            "right": null,
            "top": null,
            "visibility": null,
            "width": null
          }
        },
        "d0bd3064e5334578a5077ba834a2e676": {
          "model_module": "@jupyter-widgets/base",
          "model_name": "LayoutModel",
          "model_module_version": "1.2.0",
          "state": {
            "_model_module": "@jupyter-widgets/base",
            "_model_module_version": "1.2.0",
            "_model_name": "LayoutModel",
            "_view_count": null,
            "_view_module": "@jupyter-widgets/base",
            "_view_module_version": "1.2.0",
            "_view_name": "LayoutView",
            "align_content": null,
            "align_items": null,
            "align_self": null,
            "border": null,
            "bottom": null,
            "display": null,
            "flex": null,
            "flex_flow": null,
            "grid_area": null,
            "grid_auto_columns": null,
            "grid_auto_flow": null,
            "grid_auto_rows": null,
            "grid_column": null,
            "grid_gap": null,
            "grid_row": null,
            "grid_template_areas": null,
            "grid_template_columns": null,
            "grid_template_rows": null,
            "height": null,
            "justify_content": null,
            "justify_items": null,
            "left": null,
            "margin": null,
            "max_height": null,
            "max_width": null,
            "min_height": null,
            "min_width": null,
            "object_fit": null,
            "object_position": null,
            "order": null,
            "overflow": null,
            "overflow_x": null,
            "overflow_y": null,
            "padding": null,
            "right": null,
            "top": null,
            "visibility": null,
            "width": null
          }
        },
        "d032fb04cf884bdfa4c93f8924909de0": {
          "model_module": "@jupyter-widgets/controls",
          "model_name": "DescriptionStyleModel",
          "model_module_version": "1.5.0",
          "state": {
            "_model_module": "@jupyter-widgets/controls",
            "_model_module_version": "1.5.0",
            "_model_name": "DescriptionStyleModel",
            "_view_count": null,
            "_view_module": "@jupyter-widgets/base",
            "_view_module_version": "1.2.0",
            "_view_name": "StyleView",
            "description_width": ""
          }
        },
        "f0dbc98ec3a743da80d4ccefc6affc73": {
          "model_module": "@jupyter-widgets/base",
          "model_name": "LayoutModel",
          "model_module_version": "1.2.0",
          "state": {
            "_model_module": "@jupyter-widgets/base",
            "_model_module_version": "1.2.0",
            "_model_name": "LayoutModel",
            "_view_count": null,
            "_view_module": "@jupyter-widgets/base",
            "_view_module_version": "1.2.0",
            "_view_name": "LayoutView",
            "align_content": null,
            "align_items": null,
            "align_self": null,
            "border": null,
            "bottom": null,
            "display": null,
            "flex": null,
            "flex_flow": null,
            "grid_area": null,
            "grid_auto_columns": null,
            "grid_auto_flow": null,
            "grid_auto_rows": null,
            "grid_column": null,
            "grid_gap": null,
            "grid_row": null,
            "grid_template_areas": null,
            "grid_template_columns": null,
            "grid_template_rows": null,
            "height": null,
            "justify_content": null,
            "justify_items": null,
            "left": null,
            "margin": null,
            "max_height": null,
            "max_width": null,
            "min_height": null,
            "min_width": null,
            "object_fit": null,
            "object_position": null,
            "order": null,
            "overflow": null,
            "overflow_x": null,
            "overflow_y": null,
            "padding": null,
            "right": null,
            "top": null,
            "visibility": null,
            "width": null
          }
        },
        "4d8b00576cef400aa768324aaf65ec07": {
          "model_module": "@jupyter-widgets/controls",
          "model_name": "ProgressStyleModel",
          "model_module_version": "1.5.0",
          "state": {
            "_model_module": "@jupyter-widgets/controls",
            "_model_module_version": "1.5.0",
            "_model_name": "ProgressStyleModel",
            "_view_count": null,
            "_view_module": "@jupyter-widgets/base",
            "_view_module_version": "1.2.0",
            "_view_name": "StyleView",
            "bar_color": null,
            "description_width": ""
          }
        },
        "6d1ac7f5f69546bcaecd5208c02ea6a3": {
          "model_module": "@jupyter-widgets/base",
          "model_name": "LayoutModel",
          "model_module_version": "1.2.0",
          "state": {
            "_model_module": "@jupyter-widgets/base",
            "_model_module_version": "1.2.0",
            "_model_name": "LayoutModel",
            "_view_count": null,
            "_view_module": "@jupyter-widgets/base",
            "_view_module_version": "1.2.0",
            "_view_name": "LayoutView",
            "align_content": null,
            "align_items": null,
            "align_self": null,
            "border": null,
            "bottom": null,
            "display": null,
            "flex": null,
            "flex_flow": null,
            "grid_area": null,
            "grid_auto_columns": null,
            "grid_auto_flow": null,
            "grid_auto_rows": null,
            "grid_column": null,
            "grid_gap": null,
            "grid_row": null,
            "grid_template_areas": null,
            "grid_template_columns": null,
            "grid_template_rows": null,
            "height": null,
            "justify_content": null,
            "justify_items": null,
            "left": null,
            "margin": null,
            "max_height": null,
            "max_width": null,
            "min_height": null,
            "min_width": null,
            "object_fit": null,
            "object_position": null,
            "order": null,
            "overflow": null,
            "overflow_x": null,
            "overflow_y": null,
            "padding": null,
            "right": null,
            "top": null,
            "visibility": null,
            "width": null
          }
        },
        "7a82e7a868314387921729b438d336a9": {
          "model_module": "@jupyter-widgets/controls",
          "model_name": "DescriptionStyleModel",
          "model_module_version": "1.5.0",
          "state": {
            "_model_module": "@jupyter-widgets/controls",
            "_model_module_version": "1.5.0",
            "_model_name": "DescriptionStyleModel",
            "_view_count": null,
            "_view_module": "@jupyter-widgets/base",
            "_view_module_version": "1.2.0",
            "_view_name": "StyleView",
            "description_width": ""
          }
        },
        "95c547bb7947457fbabd6c18bcdd131d": {
          "model_module": "@jupyter-widgets/controls",
          "model_name": "HBoxModel",
          "model_module_version": "1.5.0",
          "state": {
            "_dom_classes": [],
            "_model_module": "@jupyter-widgets/controls",
            "_model_module_version": "1.5.0",
            "_model_name": "HBoxModel",
            "_view_count": null,
            "_view_module": "@jupyter-widgets/controls",
            "_view_module_version": "1.5.0",
            "_view_name": "HBoxView",
            "box_style": "",
            "children": [
              "IPY_MODEL_1cccb365609f4cd6b91ffdcf8d7a91c6",
              "IPY_MODEL_c7ea93d84a414dfdbf5b554236cdbf6c",
              "IPY_MODEL_ad7b6a64d072456b9d7687d7934ffb41"
            ],
            "layout": "IPY_MODEL_c590ed943d054d50b654723a0aa815c3"
          }
        },
        "1cccb365609f4cd6b91ffdcf8d7a91c6": {
          "model_module": "@jupyter-widgets/controls",
          "model_name": "HTMLModel",
          "model_module_version": "1.5.0",
          "state": {
            "_dom_classes": [],
            "_model_module": "@jupyter-widgets/controls",
            "_model_module_version": "1.5.0",
            "_model_name": "HTMLModel",
            "_view_count": null,
            "_view_module": "@jupyter-widgets/controls",
            "_view_module_version": "1.5.0",
            "_view_name": "HTMLView",
            "description": "",
            "description_tooltip": null,
            "layout": "IPY_MODEL_6a6a23085f164d2e847d91e5834ac75d",
            "placeholder": "​",
            "style": "IPY_MODEL_204b7157371a437da245b248f9d2a031",
            "value": "tokenizer.json: 100%"
          }
        },
        "c7ea93d84a414dfdbf5b554236cdbf6c": {
          "model_module": "@jupyter-widgets/controls",
          "model_name": "FloatProgressModel",
          "model_module_version": "1.5.0",
          "state": {
            "_dom_classes": [],
            "_model_module": "@jupyter-widgets/controls",
            "_model_module_version": "1.5.0",
            "_model_name": "FloatProgressModel",
            "_view_count": null,
            "_view_module": "@jupyter-widgets/controls",
            "_view_module_version": "1.5.0",
            "_view_name": "ProgressView",
            "bar_style": "success",
            "description": "",
            "description_tooltip": null,
            "layout": "IPY_MODEL_053933337c6d43edae5641295edaa39b",
            "max": 466062,
            "min": 0,
            "orientation": "horizontal",
            "style": "IPY_MODEL_079ef3b32d73409dbf9d1de2e1a1b35d",
            "value": 466062
          }
        },
        "ad7b6a64d072456b9d7687d7934ffb41": {
          "model_module": "@jupyter-widgets/controls",
          "model_name": "HTMLModel",
          "model_module_version": "1.5.0",
          "state": {
            "_dom_classes": [],
            "_model_module": "@jupyter-widgets/controls",
            "_model_module_version": "1.5.0",
            "_model_name": "HTMLModel",
            "_view_count": null,
            "_view_module": "@jupyter-widgets/controls",
            "_view_module_version": "1.5.0",
            "_view_name": "HTMLView",
            "description": "",
            "description_tooltip": null,
            "layout": "IPY_MODEL_067bbc74ff5a4f1696e9ed62c439dc99",
            "placeholder": "​",
            "style": "IPY_MODEL_841fc65d6e9c4f87aa4e239d74a4e9ed",
            "value": " 466k/466k [00:00&lt;00:00, 1.55MB/s]"
          }
        },
        "c590ed943d054d50b654723a0aa815c3": {
          "model_module": "@jupyter-widgets/base",
          "model_name": "LayoutModel",
          "model_module_version": "1.2.0",
          "state": {
            "_model_module": "@jupyter-widgets/base",
            "_model_module_version": "1.2.0",
            "_model_name": "LayoutModel",
            "_view_count": null,
            "_view_module": "@jupyter-widgets/base",
            "_view_module_version": "1.2.0",
            "_view_name": "LayoutView",
            "align_content": null,
            "align_items": null,
            "align_self": null,
            "border": null,
            "bottom": null,
            "display": null,
            "flex": null,
            "flex_flow": null,
            "grid_area": null,
            "grid_auto_columns": null,
            "grid_auto_flow": null,
            "grid_auto_rows": null,
            "grid_column": null,
            "grid_gap": null,
            "grid_row": null,
            "grid_template_areas": null,
            "grid_template_columns": null,
            "grid_template_rows": null,
            "height": null,
            "justify_content": null,
            "justify_items": null,
            "left": null,
            "margin": null,
            "max_height": null,
            "max_width": null,
            "min_height": null,
            "min_width": null,
            "object_fit": null,
            "object_position": null,
            "order": null,
            "overflow": null,
            "overflow_x": null,
            "overflow_y": null,
            "padding": null,
            "right": null,
            "top": null,
            "visibility": null,
            "width": null
          }
        },
        "6a6a23085f164d2e847d91e5834ac75d": {
          "model_module": "@jupyter-widgets/base",
          "model_name": "LayoutModel",
          "model_module_version": "1.2.0",
          "state": {
            "_model_module": "@jupyter-widgets/base",
            "_model_module_version": "1.2.0",
            "_model_name": "LayoutModel",
            "_view_count": null,
            "_view_module": "@jupyter-widgets/base",
            "_view_module_version": "1.2.0",
            "_view_name": "LayoutView",
            "align_content": null,
            "align_items": null,
            "align_self": null,
            "border": null,
            "bottom": null,
            "display": null,
            "flex": null,
            "flex_flow": null,
            "grid_area": null,
            "grid_auto_columns": null,
            "grid_auto_flow": null,
            "grid_auto_rows": null,
            "grid_column": null,
            "grid_gap": null,
            "grid_row": null,
            "grid_template_areas": null,
            "grid_template_columns": null,
            "grid_template_rows": null,
            "height": null,
            "justify_content": null,
            "justify_items": null,
            "left": null,
            "margin": null,
            "max_height": null,
            "max_width": null,
            "min_height": null,
            "min_width": null,
            "object_fit": null,
            "object_position": null,
            "order": null,
            "overflow": null,
            "overflow_x": null,
            "overflow_y": null,
            "padding": null,
            "right": null,
            "top": null,
            "visibility": null,
            "width": null
          }
        },
        "204b7157371a437da245b248f9d2a031": {
          "model_module": "@jupyter-widgets/controls",
          "model_name": "DescriptionStyleModel",
          "model_module_version": "1.5.0",
          "state": {
            "_model_module": "@jupyter-widgets/controls",
            "_model_module_version": "1.5.0",
            "_model_name": "DescriptionStyleModel",
            "_view_count": null,
            "_view_module": "@jupyter-widgets/base",
            "_view_module_version": "1.2.0",
            "_view_name": "StyleView",
            "description_width": ""
          }
        },
        "053933337c6d43edae5641295edaa39b": {
          "model_module": "@jupyter-widgets/base",
          "model_name": "LayoutModel",
          "model_module_version": "1.2.0",
          "state": {
            "_model_module": "@jupyter-widgets/base",
            "_model_module_version": "1.2.0",
            "_model_name": "LayoutModel",
            "_view_count": null,
            "_view_module": "@jupyter-widgets/base",
            "_view_module_version": "1.2.0",
            "_view_name": "LayoutView",
            "align_content": null,
            "align_items": null,
            "align_self": null,
            "border": null,
            "bottom": null,
            "display": null,
            "flex": null,
            "flex_flow": null,
            "grid_area": null,
            "grid_auto_columns": null,
            "grid_auto_flow": null,
            "grid_auto_rows": null,
            "grid_column": null,
            "grid_gap": null,
            "grid_row": null,
            "grid_template_areas": null,
            "grid_template_columns": null,
            "grid_template_rows": null,
            "height": null,
            "justify_content": null,
            "justify_items": null,
            "left": null,
            "margin": null,
            "max_height": null,
            "max_width": null,
            "min_height": null,
            "min_width": null,
            "object_fit": null,
            "object_position": null,
            "order": null,
            "overflow": null,
            "overflow_x": null,
            "overflow_y": null,
            "padding": null,
            "right": null,
            "top": null,
            "visibility": null,
            "width": null
          }
        },
        "079ef3b32d73409dbf9d1de2e1a1b35d": {
          "model_module": "@jupyter-widgets/controls",
          "model_name": "ProgressStyleModel",
          "model_module_version": "1.5.0",
          "state": {
            "_model_module": "@jupyter-widgets/controls",
            "_model_module_version": "1.5.0",
            "_model_name": "ProgressStyleModel",
            "_view_count": null,
            "_view_module": "@jupyter-widgets/base",
            "_view_module_version": "1.2.0",
            "_view_name": "StyleView",
            "bar_color": null,
            "description_width": ""
          }
        },
        "067bbc74ff5a4f1696e9ed62c439dc99": {
          "model_module": "@jupyter-widgets/base",
          "model_name": "LayoutModel",
          "model_module_version": "1.2.0",
          "state": {
            "_model_module": "@jupyter-widgets/base",
            "_model_module_version": "1.2.0",
            "_model_name": "LayoutModel",
            "_view_count": null,
            "_view_module": "@jupyter-widgets/base",
            "_view_module_version": "1.2.0",
            "_view_name": "LayoutView",
            "align_content": null,
            "align_items": null,
            "align_self": null,
            "border": null,
            "bottom": null,
            "display": null,
            "flex": null,
            "flex_flow": null,
            "grid_area": null,
            "grid_auto_columns": null,
            "grid_auto_flow": null,
            "grid_auto_rows": null,
            "grid_column": null,
            "grid_gap": null,
            "grid_row": null,
            "grid_template_areas": null,
            "grid_template_columns": null,
            "grid_template_rows": null,
            "height": null,
            "justify_content": null,
            "justify_items": null,
            "left": null,
            "margin": null,
            "max_height": null,
            "max_width": null,
            "min_height": null,
            "min_width": null,
            "object_fit": null,
            "object_position": null,
            "order": null,
            "overflow": null,
            "overflow_x": null,
            "overflow_y": null,
            "padding": null,
            "right": null,
            "top": null,
            "visibility": null,
            "width": null
          }
        },
        "841fc65d6e9c4f87aa4e239d74a4e9ed": {
          "model_module": "@jupyter-widgets/controls",
          "model_name": "DescriptionStyleModel",
          "model_module_version": "1.5.0",
          "state": {
            "_model_module": "@jupyter-widgets/controls",
            "_model_module_version": "1.5.0",
            "_model_name": "DescriptionStyleModel",
            "_view_count": null,
            "_view_module": "@jupyter-widgets/base",
            "_view_module_version": "1.2.0",
            "_view_name": "StyleView",
            "description_width": ""
          }
        }
      }
    }
  },
  "cells": [
    {
      "cell_type": "markdown",
      "source": [
        "RAG model using BERT and LangChain as the retriever and BLOOM as the generator."
      ],
      "metadata": {
        "id": "RY0R0uofAvkR"
      }
    },
    {
      "cell_type": "code",
      "source": [
        "import numpy as np\n",
        "import pandas as pd\n",
        "import matplotlib.pyplot as plt\n",
        "%matplotlib inline\n",
        "import tensorflow as tf\n",
        "from tensorflow import keras"
      ],
      "metadata": {
        "id": "s0j8vqC_A2b8"
      },
      "execution_count": 1,
      "outputs": []
    },
    {
      "cell_type": "code",
      "source": [
        "!pip install docx"
      ],
      "metadata": {
        "colab": {
          "base_uri": "https://localhost:8080/"
        },
        "id": "f0zwuFggBmcO",
        "outputId": "091cd2c5-5ac3-4970-8fca-9eb7a5bf9ebb"
      },
      "execution_count": null,
      "outputs": [
        {
          "output_type": "stream",
          "name": "stdout",
          "text": [
            "Collecting docx\n",
            "  Downloading docx-0.2.4.tar.gz (54 kB)\n",
            "\u001b[?25l     \u001b[90m━━━━━━━━━━━━━━━━━━━━━━━━━━━━━━━━━━━━━━━━\u001b[0m \u001b[32m0.0/54.9 kB\u001b[0m \u001b[31m?\u001b[0m eta \u001b[36m-:--:--\u001b[0m\r\u001b[2K     \u001b[90m━━━━━━━━━━━━━━━━━━━━━━━━━━━━━━━━━━━━━━━━\u001b[0m \u001b[32m54.9/54.9 kB\u001b[0m \u001b[31m1.6 MB/s\u001b[0m eta \u001b[36m0:00:00\u001b[0m\n",
            "\u001b[?25h  Preparing metadata (setup.py) ... \u001b[?25l\u001b[?25hdone\n",
            "Requirement already satisfied: lxml in /usr/local/lib/python3.10/dist-packages (from docx) (4.9.4)\n",
            "Requirement already satisfied: Pillow>=2.0 in /usr/local/lib/python3.10/dist-packages (from docx) (9.4.0)\n",
            "Building wheels for collected packages: docx\n",
            "  Building wheel for docx (setup.py) ... \u001b[?25l\u001b[?25hdone\n",
            "  Created wheel for docx: filename=docx-0.2.4-py3-none-any.whl size=53895 sha256=9bd1ec9c0a4f72de63d7592d59217d751bd817f6f6dd43f0de1ff3d0dd053c93\n",
            "  Stored in directory: /root/.cache/pip/wheels/81/f5/1d/e09ba2c1907a43a4146d1189ae4733ca1a3bfe27ee39507767\n",
            "Successfully built docx\n",
            "Installing collected packages: docx\n",
            "Successfully installed docx-0.2.4\n"
          ]
        }
      ]
    },
    {
      "cell_type": "code",
      "source": [
        "!pip install python-docx\n",
        "from docx import Document\n"
      ],
      "metadata": {
        "colab": {
          "base_uri": "https://localhost:8080/"
        },
        "id": "LEY0CDzyCF-B",
        "outputId": "5ce40650-ca60-4276-f31d-5a9e42b31c3e"
      },
      "execution_count": null,
      "outputs": [
        {
          "output_type": "stream",
          "name": "stdout",
          "text": [
            "Collecting python-docx\n",
            "  Downloading python_docx-1.1.0-py3-none-any.whl (239 kB)\n",
            "\u001b[?25l     \u001b[90m━━━━━━━━━━━━━━━━━━━━━━━━━━━━━━━━━━━━━━━━\u001b[0m \u001b[32m0.0/239.6 kB\u001b[0m \u001b[31m?\u001b[0m eta \u001b[36m-:--:--\u001b[0m\r\u001b[2K     \u001b[91m━━━━━━━━━━━━━━━━━━━━━━━━━━━━━\u001b[0m\u001b[90m╺\u001b[0m\u001b[90m━━━━━━━━━━\u001b[0m \u001b[32m174.1/239.6 kB\u001b[0m \u001b[31m5.1 MB/s\u001b[0m eta \u001b[36m0:00:01\u001b[0m\r\u001b[2K     \u001b[90m━━━━━━━━━━━━━━━━━━━━━━━━━━━━━━━━━━━━━━━━\u001b[0m \u001b[32m239.6/239.6 kB\u001b[0m \u001b[31m4.7 MB/s\u001b[0m eta \u001b[36m0:00:00\u001b[0m\n",
            "\u001b[?25hRequirement already satisfied: lxml>=3.1.0 in /usr/local/lib/python3.10/dist-packages (from python-docx) (4.9.4)\n",
            "Requirement already satisfied: typing-extensions in /usr/local/lib/python3.10/dist-packages (from python-docx) (4.11.0)\n",
            "Installing collected packages: python-docx\n",
            "Successfully installed python-docx-1.1.0\n"
          ]
        }
      ]
    },
    {
      "cell_type": "code",
      "execution_count": 2,
      "metadata": {
        "id": "nVNqsBS493Vq"
      },
      "outputs": [],
      "source": [
        "from docx import Document\n",
        "\n",
        "# Load the document\n",
        "doc_path = \"/content/sample_data/Hair Document.docx\"  # Update the path if necessary\n"
      ]
    },
    {
      "cell_type": "code",
      "source": [
        "doc = Document(doc_path)"
      ],
      "metadata": {
        "id": "E124f1m8fwSL"
      },
      "execution_count": 3,
      "outputs": []
    },
    {
      "cell_type": "code",
      "source": [
        "# Extract text from the document\n",
        "doc_text = \"\"\n",
        "for paragraph in doc.paragraphs:\n",
        "    doc_text += paragraph.text + \"\\n\""
      ],
      "metadata": {
        "id": "-csZlBcuf8RB"
      },
      "execution_count": 4,
      "outputs": []
    },
    {
      "cell_type": "code",
      "source": [
        "# Display the first few characters of the document text\n",
        "print(doc_text[:200])"
      ],
      "metadata": {
        "colab": {
          "base_uri": "https://localhost:8080/"
        },
        "id": "9psP_ktRf_9w",
        "outputId": "feeaac64-b298-4756-97cb-64b84d74dcf5"
      },
      "execution_count": 5,
      "outputs": [
        {
          "output_type": "stream",
          "name": "stdout",
          "text": [
            "Hair has psychological and sociological importance throughout the ages in framing the personality and general appearance of an individual. Significant progress is being made on discovering an effectiv\n"
          ]
        }
      ]
    },
    {
      "cell_type": "code",
      "source": [
        "import re\n",
        "\n",
        "# Perform basic preprocessing: remove special characters and lower the text\n",
        "doc_text_cleaned = re.sub(r'[^a-zA-Z\\s]', '', doc_text).lower()\n",
        "\n",
        "# Tokenize the text into sentences or passages\n",
        "sentences = doc_text_cleaned.split('\\n')\n",
        "\n",
        "# Display the first few sentences\n",
        "for sentence in sentences[:5]:\n",
        "    print(sentence)\n"
      ],
      "metadata": {
        "colab": {
          "base_uri": "https://localhost:8080/"
        },
        "id": "Zh3Mn7Dwgqya",
        "outputId": "9297aaaf-f675-4e77-e2b6-4335a36b18e3"
      },
      "execution_count": 6,
      "outputs": [
        {
          "output_type": "stream",
          "name": "stdout",
          "text": [
            "hair has psychological and sociological importance throughout the ages in framing the personality and general appearance of an individual significant progress is being made on discovering an effective and safe drug for hair growth angiogenesis androgen antagonism vasodilation potassium channel opening and alpha reductase inhibition are the major nonsurgical therapeutic strategies of hair growth promotion in spite of a flood of drugs claiming to be useful as hair growth promoters more rational strategies which can target the problem areas or stages of the hair growth cycle effectively are still awaited this article highlights the developments in hair rejuvenation strategies and reviews the potential of herbal drugs as safer and effective alternatives\n",
            "\n",
            "hair has been a sign of beauty and a contribution to an individuals personality since time immemorial alopecia baldness a dermatological disorder is a common problem of cosmetology as well as primary health practice it is common throughout the world and has been estimated to affect between  and  of the worlds population the clinical severity of alopecia in a patient may not be a good indicator of a subsequent downturn in quality of life or psychological wellbeing of the patient\n",
            "drugs that claim to treat hair loss target a steadily growing multibilliondollar market worldwide great expectations are associated with pharmaceutical hair loss management but still there is no radical improvement in the availability of more precise therapies  much of that disappointment appears to result from unrealistic expectations illtargeted and therefore inefficient drug therapy and insufficient industrial interest in dissecting the basic mechanisms by which hair loss occurs and by which human hair growth promoters exert their effects\n",
            "\n"
          ]
        }
      ]
    },
    {
      "cell_type": "code",
      "source": [
        "# Load the question-answer pairs document\n",
        "qna_pairs_path = \"/content/sample_data/Hair qna pairs.docx\"  # Update the path if necessary\n",
        "qna_doc = Document(qna_pairs_path)\n",
        "\n",
        "# Extract text from the question-answer pairs document\n",
        "qna_doc_text = \"\"\n",
        "for paragraph in qna_doc.paragraphs:\n",
        "    qna_doc_text += paragraph.text + \"\\n\"\n",
        "\n",
        "# Perform basic preprocessing: remove special characters and lower the text\n",
        "qna_doc_text_cleaned = re.sub(r'[^a-zA-Z0-9\\s]', '', qna_doc_text).lower()\n",
        "\n",
        "# Tokenize the text into question-answer pairs\n",
        "qna_pairs = [pair.split('\\n') for pair in qna_doc_text_cleaned.split('\\n\\n')]\n",
        "\n",
        "# Display the first few question-answer pairs\n",
        "for qna_pair in qna_pairs[:3]:\n",
        "    print(qna_pair)\n"
      ],
      "metadata": {
        "colab": {
          "base_uri": "https://localhost:8080/"
        },
        "id": "EvkiwSIBhRDH",
        "outputId": "0465adce-280d-48b9-9b4c-2358379006fb"
      },
      "execution_count": 7,
      "outputs": [
        {
          "output_type": "stream",
          "name": "stdout",
          "text": [
            "['hair question and answer pairs']\n",
            "['question what are the major nonsurgical therapeutic strategies for promoting hair growth', 'answer the major nonsurgical therapeutic strategies for promoting hair growth include angiogenesis androgen antagonism vasodilation potassium channel opening and 5alpha reductase inhibition', 'question what is the significance of herbal drugs in hair growth promotion', 'answer herbal drugs have been considered safer and effective alternatives for promoting hair growth since ancient times and are widely used in ayurveda chinese medicine and unani systems', 'question what are the two us fdaapproved synthetic drugs for treating alopecia', 'answer minoxidil and finasteride are the two us fdaapproved synthetic drugs for treating alopecia although their side effects have limited their usage', 'question what are the phases of the hair growth cycle', 'answer the phases of the hair growth cycle are anagen growth catagen regression telogen resting and exogen shedding', 'question what are the effects of prematurely terminated anagen and early catagen stages on hair growth', 'answer prematurely terminated anagen and early catagen stages can result in effluvium and alopecia leading to shedding of hair', 'question what is considered a normal amount of daily hair loss', 'answer on average shedding 50125 hairs per day is considered normal depending on sex but a loss of more than 100 hairs per day is considered pathological', 'question what percentage of men are affected by androgenetic alopecia under the age of 30', 'answer up to 30 of men under the age of 30 are affected by androgenetic alopecia', 'question what are the different types of alopecia', 'answer the different types of alopecia include male pattern baldness female pattern baldness alopecia areata alopecia totalis and alopecia universalis', 'question what are the two types of hair loss based on the stages of hair growth affected', 'answer the two types of hair loss based on the stages of hair growth affected are anagen effluvium and telogen effluvium', 'question what are some factors leading to hair loss', 'answer factors leading to hair loss include physical and emotional stress chemotherapy genetic predisposition excessive sebum production cardiovascular diseases smoking and endogenous substances like vegf']\n",
            "['question how does angiogenesis contribute to hair growth', 'answer angiogenesis the formation of new blood vessels is crucial for hair growth as it ensures the adequate supply of nutrients and oxygen to the hair follicles', 'question what is the role of vascular endothelial growth factor vegf in angiogenesis', 'answer vegf is the major angiogenic regulator that promotes the formation of new blood vessels it influences various cell functions including cell survival proliferation and the generation of nitric oxide and prostacyclin', 'question how does niacin vitamin b3 contribute to preventing hair loss', 'answer niacin enhances blood flow to the scalp through vasodilation reduces cholesterol levels and decreases the activity of 5alpha reductase which is involved in hair loss', 'question what are the benefits of vitamin b complex for hair health', 'answer vitamin b complex improves blood flow to the scalp reduces cholesterol accumulation and protects hair and scalp from free radical damage', 'question how does ascorbic acid vitamin c contribute to maintaining hair health', 'answer ascorbic acid improves blood flow to the scalp and maintains capillaries carrying blood to the hair follicles', 'question what is the role of zinc in stimulating hair growth', 'answer zinc enhances immune function and stimulates hair growth by supporting cellular processes', 'question how does minoxidil promote hair growth', 'answer minoxidil stimulates hair growth by increasing cell proliferation inhibiting collagen synthesis prolonging the survival of epithelial cells and stimulating vascular endothelial growth factor and prostaglandin synthesis', 'question what are the potential side effects of minoxidil', 'answer potential side effects of minoxidil include itching prickling headaches dizziness irregular heartbeat and in some cases regression to pretreatment baldness upon discontinuation', 'question what is the recommended concentration of topical minoxidil for effectiveness', 'answer topical minoxidil is effective at a concentration of 2', 'question what is required for successful treatment with topical minoxidil', 'answer successful treatment with topical minoxidil requires a lifetime commitment with the solution applied twice a day every day to the balding area', 'question how does finasteride work to address hair loss and what are its potential side effects', 'answer finasteride inhibits the enzyme 5alpha reductase which converts testosterone into dihydrotestosterone dht the hormone responsible for hair loss by reducing dht levels finasteride promotes the growth of stronger thicker and more pigmented hair however potential side effects include sexual performance problems such as impotence loss of libido reduced sperm counts or erectile dysfunction particularly in men over 60 years old its also not approved for women due to the risk of birth defects and may not be effective for receding hairlines at the temple', 'question what are some alternatives to finasteride for addressing hair loss', 'answer some alternatives to finasteride include other 4aza steroidal drugs like dutasteride episteride and turosteride additionally herbal remedies and natural products have been explored for their potential to promote hair growth such as grapeseed rosemary oil sage emu oil aloe vera ginkgo biloba bee pollen green tea saw palmetto nettles and hibiscus rosasinensis', 'question how do herbal remedies like green tea and saw palmetto contribute to preventing hair loss', 'answer herbal remedies like green tea and saw palmetto inhibit 5alpha reductase activity thus reducing dht levels in the scalp which can help prevent hair loss', 'question what are some common causes of hair loss or breakage in people with afrotextured hair', 'answer common causes of hair loss or breakage in people with afrotextured hair include traction alopecia acquired trichorrhexis nodosa atn and central centrifugal cicatricial alopecia ccca these conditions can be exacerbated by certain hair styling practices such as tight ponytails and buns chemical relaxers heat styling and excessive manipulation of the hair', 'question what are some general recommendations for maintaining afrotextured hair health', 'answer general recommendations for maintaining afrotextured hair health include washing the hair every one to two weeks using moisturizing products minimizing excessive manipulation using soft brushes or widetooth combs avoiding tight hairstyles and protecting the hair at bedtime with loose plaits or twists and a satin or silk cap or pillowcase', 'question how do chemical relaxers work and what are the main types', 'answer chemical relaxers are used to chemically straighten curly or natural hair by breaking hydrogen and disulfide bonds permanently altering the hairs texture there are two main types of chemical relaxers lyebased relaxers which contain sodium hydroxide and are more alkaline but potentially more effective and nolye relaxers which contain potassium hydroxide calcium guanidine or lithium hydroxide and are less alkaline but more likely to cause dry brittle hair', 'question what cultural significance does hair hold in the black community particularly amongst women', 'answer hair holds significant cultural importance in the black community especially among women historically hairstyles have been used to indicate tribal affiliations and societal status in many african cultures during the slave trade afrotextured hair was often stigmatized by slave masters leading to negative perceptions among slaves following emancipation many african americans sought to conform to european beauty standards by straightening their hair with chemical relaxers however hairstyles like the afro became symbols of political resistance during the civil rights movement of the 1960s in recent years there has been a resurgence of natural hair movements empowering many black women to embrace their natural hair textures', 'question how have hairstyles evolved within the black community over time', 'answer hairstyles within the black community have evolved significantly over time from traditional tribal styles indicating social status to conforming to european beauty standards postemancipation hairstyles have been influenced by cultural social and political factors the afro became a symbol of black pride during the civil rights movement while the natural hair movement in the 2000s encouraged many black women to embrace their natural hair textures today there is a wide variety of hairstyles popular among people of african descent reflecting personal preferences cultural heritage and social norms', 'question what are some common hairstyles seen within the black community and what considerations should be kept in mind regarding their maintenance', 'answer common hairstyles seen within the black community include natural hair relaxed hair dreadlocks braids weaves and wigs maintenance considerations vary depending on the hairstyle but generally include washing conditioning moisturizing and protecting the hair from damage afrotextured hair requires more moisture and gentle handling due to its coarse and kinky texture its important to avoid excessive manipulation tight hairstyles that can cause traction alopecia and damaging chemical treatments like relaxers additionally understanding the cultural significance of hairstyles is essential for respectful and sensitive communication with individuals from the black community', 'question what role do social media and online influencers play in shaping perceptions of black hairstyles', 'answer social media and online influencers have played a significant role in shaping perceptions of black hairstyles particularly in promoting natural hair movements and celebrating diverse beauty standards platforms like instagram youtube and personal blogs have provided spaces for black women to share their hair journeys showcase different hairstyles and provide tips and tutorials for hair care natural hair influencers have empowered many black women to embrace their natural hair textures and challenge conventional beauty standards additionally social media has facilitated conversations about cultural appropriation and the importance of respecting the history and significance of black hairstyles', 'question what are some important considerations when applying relaxer to the hair', 'answer when applying relaxer to the hair its crucial to only apply it to new growth and avoid applying it to hair that has already been straightened this prevents irreparable damage and hair breakage additionally relaxers should not be used more frequently than every 610 weeks and taking breaks from relaxers for some months can help give the hair a rest its essential to follow the instructions carefully to prevent burns on the scalp as leaving the relaxer on longer than specified can lead to scarring alopecia protecting the skin with a barrier such as vaseline and using a neutralizing shampoo if provided with the relaxer are also important steps', 'question how can relaxer burns be prevented and what are the potential consequences of leaving relaxer on the hair longer than instructed', 'answer to prevent relaxer burns its essential to follow the instructions carefully avoid leaving the relaxer on longer than specified and protect the skin with a barrier such as vaseline along the hairline and around the ears relaxer burns can lead to scarring alopecia causing permanent hair loss in affected areas additionally leaving relaxer on the hair longer than instructed can result in overprocessing making the hair irreparably fragile and prone to breakage', 'question what are some recommendations for installing braids to minimize the risk of damage', 'answer installing braids with an experienced hair stylist who does not braid the hair too tightly is essential to minimize the risk of damage if the scalp feels painful after installation its a sign that the braids are too tight increasing the risk of traction alopecia leaving the edges out of the braids and avoiding tight ponytails or buns can help reduce tension on delicate hairs additionally braiding with larger sections and avoiding heavy extensions can lower the risk of damage', 'question how can the risk of damage from braids be reduced while maintaining the hairstyle', 'answer to reduce the risk of damage from braids its important to maintain proper hygiene by cleansing the scalp with a damp sponge and mild shampoo to reduce buildup braids should not be left in for longer than six weeks to prevent tension on the hair follicles avoiding tight ponytails or buns and installing braids in alternate directions can help distribute stress evenly additionally minimizing manipulation and taking breaks between relaxers and braiding can help promote hair health', 'question what are some best practices for maintaining hair health while wearing wigs weaves or extensions', 'answer to maintain hair health while wearing wigs weaves or extensions its crucial to ensure that the hair is cleansed and moisturized regularly while under the protective style wigs or weaves should not be sewn in or bonded too tightly to prevent damage to the scalp and hair follicles protecting the edges from friction and avoiding overuse of heat styling on the natural hair left out are essential additionally removing weaves after eight weeks and avoiding oversupplementation of nutrients are important considerations', 'question what are some key considerations for individuals with locs to prevent hair loss', 'answer individuals with locs should be aware of the risk of hair loss associated with the hairstyle long locs can become heavy and place tension on the hair strands increasing the risk of traction alopecia and hair loss avoiding excessive tension at the roots caused by twisting the locs too tightly is crucial developing a cleansing routine for the scalp and locs and ensuring thorough drying after washing can help prevent mold and mildew buildup which can contribute to hair loss', 'question what are some recommended dietary sources to promote hair growth', 'answer several dietary sources can promote hair growth including eggs berries spinach nuts seeds sweet peppers and avocados these foods are rich in essential nutrients such as protein biotin vitamins a c and e iron and omega3 fatty acids which are vital for healthy hair growth consuming a balanced diet that includes these nutrientrich foods can help support optimal hair health and growth', 'question how does iron deficiency impact hair growth and what are some risk factors for iron deficiency', 'answer iron deficiency is a common cause of hair loss as iron plays a crucial role in hair growth by serving as a cofactor for dna synthesis in rapidly dividing hair follicle matrix cells premenopausal women are at higher risk due to menstrual blood loss while postmenopausal women men and individuals with malabsorption disorders may present with gastrointestinal blood loss vegetarians and vegans are also at higher risk due to the lower bioavailability of nonheme iron found in plantbased foods', 'question what are the potential risks associated with oversupplementation of certain nutrients for hair growth', 'answer oversupplementation of certain nutrients including selenium vitamin a and vitamin e has been linked to hair loss excessive intake of these nutrients can lead to toxicity causing adverse effects on hair health its essential to consume nutrients within recommended daily allowances and avoid oversupplementation as excessive intake can disrupt the bodys normal functioning and lead to unintended consequences including hair loss', 'question how should physicians respond to patients inquiring about the use of dietary supplements for hair loss', 'answer physicians should respond to patients inquiring about the use of dietary supplements for hair loss by reviewing the known evidence and potential risks associated with supplementation while nutritional deficiencies can impact hair structure and growth supplementation without medical supervision can be harmful physicians should assess patients on a casebycase basis considering their medical history dietary habits and risk factors for nutrient deficiencies monitoring patients response to supplementation and educating them about the importance of balanced nutrition for overall health and hair growth are crucial aspects of patient care', 'question what are some possible consequences of zinc deficiency particularly in relation to hair health', 'answer zinc deficiency can have various consequences including diarrhea immunological effects delayed wound healing abnormalities in taste and smell as well as cutaneous effects like dermatitis hair changes associated with zinc deficiency include telogen effluvium and brittle hair', 'question can you explain the relationship between acrodermatitis enteropathica and zinc deficiency', 'answer acrodermatitis enteropathica is an autosomal recessive disorder that results in decreased absorption of zinc leading to symptoms of zinc deficiency this condition highlights the importance of zinc in various physiological processes including skin health and wound healing', 'question how does zinc deficiency impact hair loss', 'answer zinc deficiency has been linked to various hair changes including telogen effluvium and brittle hair lower serum zinc levels have been observed in patients with conditions such as alopecia areata and male pattern hair loss suggesting a potential role of zinc in maintaining healthy hair growth', 'question what therapeutic effects have been observed with zinc supplementation in patients with alopecia areata', 'answer some studies have shown that supplementation with zinc may have therapeutic effects in patients with alopecia areata particularly those with low serum zinc levels this suggests that correcting zinc deficiency could potentially benefit individuals experiencing hair loss due to certain conditions', 'question what are the risks associated with excess zinc supplementation', 'answer excess zinc supplementation can lead to toxicity resulting in acute adverse effects such as pain vomiting and diarrhea chronic effects may include interactions with other nutrients like iron and reduced immune function highlighting the importance of maintaining a balanced approach to supplementation', 'question can you explain the significance of pellagra in relation to niacin deficiency', 'answer pellagra is a condition caused by niacin deficiency characterized by symptoms such as photosensitive dermatitis diarrhea and dementia the association between pellagra and niacin deficiency underscores the importance of adequate niacin intake for overall health and wellbeing', 'question what are some common causes of pellagra in developed countries', 'answer in developed countries common causes of pellagra include alcoholism malabsorption disorders and druginduced cases understanding these causes is essential for proper diagnosis and management of individuals presenting with symptoms of niacin deficiency', 'question how does deficiency of essential fatty acids affect hair health', 'answer deficiency of essential fatty acids such as linoleic acid and alphalinolenic acid can result in hair changes like loss of scalp hair and lightening of hair color these fatty acids play important roles in maintaining the health and integrity of hair follicles', 'question what potential role do unsaturated fatty acids play in modulating hair growth', 'answer unsaturated fatty acids may modulate hair growth by inhibiting 5reductase similar to the mechanism of action of finasteride additionally certain fatty acids like arachidonic acid may promote hair growth by enhancing follicle proliferation highlighting the importance of dietary fat intake for maintaining healthy hair', 'question what is the potential effect of selenium deficiency on hair growth', 'answer selenium deficiency has been associated with sparse hair growth in animal studies indicating a potential role of selenium in hair follicle morphogenesis while human research on selenium deficiency and alopecia is limited some case reports suggest that supplementation may improve hair growth in individuals with selenium deficiency although excessive supplementation can lead to toxicity']\n"
          ]
        }
      ]
    },
    {
      "cell_type": "code",
      "source": [
        "from transformers import BertForQuestionAnswering, GPT2LMHeadModel\n",
        "\n",
        "# Load pre-trained BERT model for question-answering\n",
        "bert_model_name = \"bert-base-uncased\"  # You can also use other variants if needed\n",
        "bert_retriever = BertForQuestionAnswering.from_pretrained(bert_model_name)\n",
        "\n",
        "# Load pre-trained BLOOM (GPT) model for text generation\n",
        "bloom_model_name = \"gpt2-medium\"  # You can adjust the model size as needed\n",
        "bloom_generator = GPT2LMHeadModel.from_pretrained(bloom_model_name)\n",
        "\n",
        "# Display model configurations\n",
        "print(\"BERT Model Configuration:\")\n",
        "print(bert_retriever.config)\n",
        "\n",
        "print(\"\\nBLOOM Model Configuration:\")\n",
        "print(bloom_generator.config)\n"
      ],
      "metadata": {
        "colab": {
          "base_uri": "https://localhost:8080/"
        },
        "id": "t7mgtckpp1iD",
        "outputId": "8d04631f-2fab-44fa-8d70-892c5ee2639e"
      },
      "execution_count": 8,
      "outputs": [
        {
          "output_type": "stream",
          "name": "stderr",
          "text": [
            "/usr/local/lib/python3.10/dist-packages/huggingface_hub/utils/_token.py:88: UserWarning: \n",
            "The secret `HF_TOKEN` does not exist in your Colab secrets.\n",
            "To authenticate with the Hugging Face Hub, create a token in your settings tab (https://huggingface.co/settings/tokens), set it as secret in your Google Colab and restart your session.\n",
            "You will be able to reuse this secret in all of your notebooks.\n",
            "Please note that authentication is recommended but still optional to access public models or datasets.\n",
            "  warnings.warn(\n",
            "Some weights of BertForQuestionAnswering were not initialized from the model checkpoint at bert-base-uncased and are newly initialized: ['qa_outputs.bias', 'qa_outputs.weight']\n",
            "You should probably TRAIN this model on a down-stream task to be able to use it for predictions and inference.\n"
          ]
        },
        {
          "output_type": "stream",
          "name": "stdout",
          "text": [
            "BERT Model Configuration:\n",
            "BertConfig {\n",
            "  \"_name_or_path\": \"bert-base-uncased\",\n",
            "  \"architectures\": [\n",
            "    \"BertForMaskedLM\"\n",
            "  ],\n",
            "  \"attention_probs_dropout_prob\": 0.1,\n",
            "  \"classifier_dropout\": null,\n",
            "  \"gradient_checkpointing\": false,\n",
            "  \"hidden_act\": \"gelu\",\n",
            "  \"hidden_dropout_prob\": 0.1,\n",
            "  \"hidden_size\": 768,\n",
            "  \"initializer_range\": 0.02,\n",
            "  \"intermediate_size\": 3072,\n",
            "  \"layer_norm_eps\": 1e-12,\n",
            "  \"max_position_embeddings\": 512,\n",
            "  \"model_type\": \"bert\",\n",
            "  \"num_attention_heads\": 12,\n",
            "  \"num_hidden_layers\": 12,\n",
            "  \"pad_token_id\": 0,\n",
            "  \"position_embedding_type\": \"absolute\",\n",
            "  \"transformers_version\": \"4.39.3\",\n",
            "  \"type_vocab_size\": 2,\n",
            "  \"use_cache\": true,\n",
            "  \"vocab_size\": 30522\n",
            "}\n",
            "\n",
            "\n",
            "BLOOM Model Configuration:\n",
            "GPT2Config {\n",
            "  \"_name_or_path\": \"gpt2-medium\",\n",
            "  \"activation_function\": \"gelu_new\",\n",
            "  \"architectures\": [\n",
            "    \"GPT2LMHeadModel\"\n",
            "  ],\n",
            "  \"attn_pdrop\": 0.1,\n",
            "  \"bos_token_id\": 50256,\n",
            "  \"embd_pdrop\": 0.1,\n",
            "  \"eos_token_id\": 50256,\n",
            "  \"initializer_range\": 0.02,\n",
            "  \"layer_norm_epsilon\": 1e-05,\n",
            "  \"model_type\": \"gpt2\",\n",
            "  \"n_ctx\": 1024,\n",
            "  \"n_embd\": 1024,\n",
            "  \"n_head\": 16,\n",
            "  \"n_inner\": null,\n",
            "  \"n_layer\": 24,\n",
            "  \"n_positions\": 1024,\n",
            "  \"n_special\": 0,\n",
            "  \"predict_special_tokens\": true,\n",
            "  \"reorder_and_upcast_attn\": false,\n",
            "  \"resid_pdrop\": 0.1,\n",
            "  \"scale_attn_by_inverse_layer_idx\": false,\n",
            "  \"scale_attn_weights\": true,\n",
            "  \"summary_activation\": null,\n",
            "  \"summary_first_dropout\": 0.1,\n",
            "  \"summary_proj_to_labels\": true,\n",
            "  \"summary_type\": \"cls_index\",\n",
            "  \"summary_use_proj\": true,\n",
            "  \"task_specific_params\": {\n",
            "    \"text-generation\": {\n",
            "      \"do_sample\": true,\n",
            "      \"max_length\": 50\n",
            "    }\n",
            "  },\n",
            "  \"transformers_version\": \"4.39.3\",\n",
            "  \"use_cache\": true,\n",
            "  \"vocab_size\": 50257\n",
            "}\n",
            "\n"
          ]
        }
      ]
    },
    {
      "cell_type": "code",
      "source": [
        "# Extract questions and answers from the question-answer pairs\n",
        "questions = []\n",
        "answers = []\n",
        "\n",
        "for qna_pair in qna_pairs:\n",
        "    if len(qna_pair) == 2:  # Ensure it's a valid question-answer pair\n",
        "        question, answer = qna_pair\n",
        "        questions.append(question.strip())\n",
        "        answers.append(answer.strip())\n",
        "\n",
        "# Format the data into a format suitable for training BERT\n",
        "# You may need to further preprocess the data based on BERT's requirements\n",
        "# For example, you may need to add special tokens ([CLS], [SEP]) and perform tokenization\n",
        "\n",
        "# Display the first few questions and answers\n",
        "for i in range(3):\n",
        "    print(f\"Question {i+1}: {questions[i]}\")\n",
        "    print(f\"Answer {i+1}: {answers[i]}\")\n",
        "    print()\n"
      ],
      "metadata": {
        "colab": {
          "base_uri": "https://localhost:8080/"
        },
        "id": "Sjs2WZ7wrrpR",
        "outputId": "baa1d496-4532-40d9-e7dd-4c3d337ef15d"
      },
      "execution_count": 9,
      "outputs": [
        {
          "output_type": "stream",
          "name": "stdout",
          "text": [
            "Question 1: question what are the main factors affecting hair growth\n",
            "Answer 1: answer hair growth is influenced by various factors such as ethnicity gender scalp area natural hair color and hair curliness\n",
            "\n",
            "Question 2: question what were the findings regarding hair density across different scalp areas\n",
            "Answer 2: answer the study found that hair density varied across different scalp areas with the vertex area having the highest density followed by the nape and temple\n",
            "\n",
            "Question 3: question did natural hair color have any impact on hair growth parameters\n",
            "Answer 3: answer while natural hair color did not significantly affect total hair density and growth rate there was a tendency for telogen percentage t to decrease with lighter hair tones\n",
            "\n"
          ]
        }
      ]
    },
    {
      "cell_type": "code",
      "source": [
        "# Load the text from the \"Hair Document\" file\n",
        "hair_doc_path = \"/content/sample_data/Hair Document.docx\"  # Update the path if necessary\n",
        "hair_doc = Document(hair_doc_path)\n",
        "\n",
        "# Extract text from the \"Hair Document\"\n",
        "hair_doc_text = \"\"\n",
        "for paragraph in hair_doc.paragraphs:\n",
        "    hair_doc_text += paragraph.text + \"\\n\"\n",
        "\n",
        "# Tokenize the text into sentences or passages suitable for retrieval\n",
        "hair_doc_sentences = hair_doc_text.split(\"\\n\")  # Split by newline character for sentences\n",
        "\n",
        "# Display the first few sentences\n",
        "for i in range(3):\n",
        "    print(f\"Sentence {i+1}: {hair_doc_sentences[i]}\")\n",
        "    print()\n"
      ],
      "metadata": {
        "colab": {
          "base_uri": "https://localhost:8080/"
        },
        "id": "Wihfc98Rr-x-",
        "outputId": "76734f8d-b489-4c7f-eb17-6859369cdab1"
      },
      "execution_count": 10,
      "outputs": [
        {
          "output_type": "stream",
          "name": "stdout",
          "text": [
            "Sentence 1: Hair has psychological and sociological importance throughout the ages in framing the personality and general appearance of an individual. Significant progress is being made on discovering an effective and safe drug for hair growth. Angiogenesis, androgen antagonism, vasodilation, potassium channel opening and 5-alpha reductase inhibition are the major non-surgical therapeutic strategies of hair growth promotion. In spite of a flood of drugs claiming to be useful as hair growth promoters, more rational strategies, which can target the problem areas or stages of the hair growth cycle effectively, are still awaited. This article highlights the developments in hair rejuvenation strategies and reviews the potential of herbal drugs as safer and effective alternatives.\n",
            "\n",
            "Sentence 2: \n",
            "\n",
            "Sentence 3: Hair has been a sign of beauty and a contribution to an individual’s personality since time immemorial. Alopecia (baldness), a dermatological disorder, is a common problem of cosmetology as well as primary health practice. It is common throughout the world and has been estimated to affect between 0.2% and 2% of the world’s population. The clinical severity of alopecia in a patient may not be a good indicator of a subsequent downturn in quality of life or psychological well-being of the patient.\n",
            "\n"
          ]
        }
      ]
    },
    {
      "cell_type": "code",
      "source": [
        "from transformers import TrainingArguments"
      ],
      "metadata": {
        "id": "AxsHwe7bu_qA"
      },
      "execution_count": 11,
      "outputs": []
    },
    {
      "cell_type": "code",
      "source": [
        "# Define training parameters for BERT\n",
        "training_args = TrainingArguments(\n",
        "    output_dir='./output',  # Add output directory\n",
        "    per_device_train_batch_size=32,\n",
        "    per_device_eval_batch_size=8,\n",
        "    learning_rate=2e-5,\n",
        "    num_train_epochs=3,\n",
        "    evaluation_strategy=\"epoch\",\n",
        "    save_strategy=\"epoch\",\n",
        "    logging_dir=\"./logs\",\n",
        "    logging_steps=100,\n",
        ")"
      ],
      "metadata": {
        "id": "mM2tNbgp7YV2"
      },
      "execution_count": 12,
      "outputs": []
    },
    {
      "cell_type": "code",
      "source": [
        "from transformers import AdamW"
      ],
      "metadata": {
        "id": "hCeCIsDT70JD"
      },
      "execution_count": 14,
      "outputs": []
    },
    {
      "cell_type": "code",
      "source": [
        "from transformers import AdamW, BertTokenizer, BertModel\n",
        "\n",
        "# Import other necessary components\n",
        "\n",
        "# Define your BERT model\n",
        "model = BertModel.from_pretrained('bert-base-uncased')\n",
        "\n",
        "# Define your tokenizer\n",
        "tokenizer = BertTokenizer.from_pretrained('bert-base-uncased')\n",
        "\n",
        "# Define your optimizer\n",
        "optimizer = AdamW(model.parameters(), lr=training_args.learning_rate)\n",
        "\n",
        "# Continue with your project\n"
      ],
      "metadata": {
        "id": "et0kgIUV7c6z",
        "outputId": "d92740bf-a40e-4efb-feac-30a9e4252887",
        "colab": {
          "base_uri": "https://localhost:8080/",
          "height": 168,
          "referenced_widgets": [
            "d6088e81529449be86573eefe84aff72",
            "28f3d12c9b074266a4123efc589fd839",
            "80f1cc3606cd491598c92438c94fb14c",
            "8428812de81c44a8b7d961ea501be47f",
            "df634d343e154861bb001668f2c60eec",
            "87f3351085334a178aa912d30ad3ef15",
            "c18058c774c94e3e8e1ca624cf55c6c0",
            "bf18e80efc0747d39bee03ea949cff63",
            "e150e82c40a34ab2bb7cb0babbfc588f",
            "f00d2a35da1a42878cd8aeac74de67ff",
            "c875b9db87384322b02851c6d970e885",
            "7317244d3afa48f6a04e41444decf965",
            "367af4a4f9bd441b83198cb0525ae500",
            "6836aa05a34641c6a5ddfb44011d5c77",
            "8eff7b540e054425bfc1679befcdc121",
            "f1bd2519bec6431b9c6cbc0541fd6a0f",
            "d0bd3064e5334578a5077ba834a2e676",
            "d032fb04cf884bdfa4c93f8924909de0",
            "f0dbc98ec3a743da80d4ccefc6affc73",
            "4d8b00576cef400aa768324aaf65ec07",
            "6d1ac7f5f69546bcaecd5208c02ea6a3",
            "7a82e7a868314387921729b438d336a9",
            "95c547bb7947457fbabd6c18bcdd131d",
            "1cccb365609f4cd6b91ffdcf8d7a91c6",
            "c7ea93d84a414dfdbf5b554236cdbf6c",
            "ad7b6a64d072456b9d7687d7934ffb41",
            "c590ed943d054d50b654723a0aa815c3",
            "6a6a23085f164d2e847d91e5834ac75d",
            "204b7157371a437da245b248f9d2a031",
            "053933337c6d43edae5641295edaa39b",
            "079ef3b32d73409dbf9d1de2e1a1b35d",
            "067bbc74ff5a4f1696e9ed62c439dc99",
            "841fc65d6e9c4f87aa4e239d74a4e9ed"
          ]
        }
      },
      "execution_count": 16,
      "outputs": [
        {
          "output_type": "display_data",
          "data": {
            "text/plain": [
              "tokenizer_config.json:   0%|          | 0.00/48.0 [00:00<?, ?B/s]"
            ],
            "application/vnd.jupyter.widget-view+json": {
              "version_major": 2,
              "version_minor": 0,
              "model_id": "d6088e81529449be86573eefe84aff72"
            }
          },
          "metadata": {}
        },
        {
          "output_type": "display_data",
          "data": {
            "text/plain": [
              "vocab.txt:   0%|          | 0.00/232k [00:00<?, ?B/s]"
            ],
            "application/vnd.jupyter.widget-view+json": {
              "version_major": 2,
              "version_minor": 0,
              "model_id": "7317244d3afa48f6a04e41444decf965"
            }
          },
          "metadata": {}
        },
        {
          "output_type": "display_data",
          "data": {
            "text/plain": [
              "tokenizer.json:   0%|          | 0.00/466k [00:00<?, ?B/s]"
            ],
            "application/vnd.jupyter.widget-view+json": {
              "version_major": 2,
              "version_minor": 0,
              "model_id": "95c547bb7947457fbabd6c18bcdd131d"
            }
          },
          "metadata": {}
        },
        {
          "output_type": "stream",
          "name": "stderr",
          "text": [
            "/usr/local/lib/python3.10/dist-packages/transformers/optimization.py:457: FutureWarning: This implementation of AdamW is deprecated and will be removed in a future version. Use the PyTorch implementation torch.optim.AdamW instead, or set `no_deprecation_warning=True` to disable this warning\n",
            "  warnings.warn(\n"
          ]
        }
      ]
    }
  ]
}